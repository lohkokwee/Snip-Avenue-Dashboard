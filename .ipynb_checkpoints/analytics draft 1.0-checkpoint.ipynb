{
 "cells": [
  {
   "cell_type": "code",
   "execution_count": null,
   "id": "61c2a293",
   "metadata": {},
   "outputs": [],
   "source": [
    "from sklearn.datasets import make_classification\n",
    "import pandas as pd\n",
    "import numpy as np\n",
    "import random"
   ]
  },
  {
   "cell_type": "code",
   "execution_count": null,
   "id": "c511569b",
   "metadata": {},
   "outputs": [],
   "source": [
    "# 3 months worth of data = 3 months * 30 days * 240 customers a day = 21600\n",
    "\n",
    "# features: id, waiting time(info), rating(info), price_paid, haircut_duration(info), time_of_day, gender, distance(info)\n",
    "# https://bestrandoms.com/random-address-in-sg"
   ]
  },
  {
   "cell_type": "code",
   "execution_count": 72,
   "id": "4a2ec832",
   "metadata": {},
   "outputs": [],
   "source": [
    "#ideal situation pre-scaling and cleaning\n",
    "\n",
    "#id can be given later, after data is made\n",
    "#waiting time (important), values: [0min to 90min]\n",
    "#rating(important), values: [0 to 5]\n",
    "#price_paid, values: [3.8 to 20]\n",
    "#haircut_duration(important), values: [6min to 40min]\n",
    "#time_of_day, values: [0min to 570min]\n",
    "#gender, values: [0 or 1]\n",
    "#distance(important), values: [0.5km to 10km, might need binning]"
   ]
  },
  {
   "cell_type": "code",
   "execution_count": null,
   "id": "b8854da2",
   "metadata": {},
   "outputs": [],
   "source": []
  },
  {
   "cell_type": "code",
   "execution_count": 86,
   "id": "233ee06c",
   "metadata": {},
   "outputs": [],
   "source": [
    "X, y = make_classification(n_samples = 21600,\n",
    "                           n_features = 6,\n",
    "                           n_informative = 4,\n",
    "                           weights = [0.17, 0.83],\n",
    "                           random_state = 2022)"
   ]
  },
  {
   "cell_type": "code",
   "execution_count": 130,
   "id": "88a2021b",
   "metadata": {},
   "outputs": [
    {
     "data": {
      "text/html": [
       "<div>\n",
       "<style scoped>\n",
       "    .dataframe tbody tr th:only-of-type {\n",
       "        vertical-align: middle;\n",
       "    }\n",
       "\n",
       "    .dataframe tbody tr th {\n",
       "        vertical-align: top;\n",
       "    }\n",
       "\n",
       "    .dataframe thead th {\n",
       "        text-align: right;\n",
       "    }\n",
       "</style>\n",
       "<table border=\"1\" class=\"dataframe\">\n",
       "  <thead>\n",
       "    <tr style=\"text-align: right;\">\n",
       "      <th></th>\n",
       "      <th>price_paid</th>\n",
       "      <th>waiting_time</th>\n",
       "      <th>rating</th>\n",
       "      <th>haircut_duration</th>\n",
       "      <th>time_of_day</th>\n",
       "      <th>distance</th>\n",
       "      <th>is_male</th>\n",
       "    </tr>\n",
       "  </thead>\n",
       "  <tbody>\n",
       "    <tr>\n",
       "      <th>0</th>\n",
       "      <td>-0.630637</td>\n",
       "      <td>1.420384</td>\n",
       "      <td>-0.670000</td>\n",
       "      <td>2.332295</td>\n",
       "      <td>-1.822945</td>\n",
       "      <td>-0.001568</td>\n",
       "      <td>1</td>\n",
       "    </tr>\n",
       "    <tr>\n",
       "      <th>1</th>\n",
       "      <td>-0.796216</td>\n",
       "      <td>0.349179</td>\n",
       "      <td>-0.336736</td>\n",
       "      <td>1.288682</td>\n",
       "      <td>-1.365355</td>\n",
       "      <td>-0.192202</td>\n",
       "      <td>1</td>\n",
       "    </tr>\n",
       "    <tr>\n",
       "      <th>2</th>\n",
       "      <td>-0.716891</td>\n",
       "      <td>-0.282770</td>\n",
       "      <td>-0.476735</td>\n",
       "      <td>-1.708531</td>\n",
       "      <td>-0.224167</td>\n",
       "      <td>0.346198</td>\n",
       "      <td>1</td>\n",
       "    </tr>\n",
       "    <tr>\n",
       "      <th>3</th>\n",
       "      <td>2.273020</td>\n",
       "      <td>2.188449</td>\n",
       "      <td>-1.002937</td>\n",
       "      <td>-2.397965</td>\n",
       "      <td>2.979551</td>\n",
       "      <td>1.794880</td>\n",
       "      <td>1</td>\n",
       "    </tr>\n",
       "    <tr>\n",
       "      <th>4</th>\n",
       "      <td>-0.322733</td>\n",
       "      <td>2.405728</td>\n",
       "      <td>-1.436030</td>\n",
       "      <td>0.252456</td>\n",
       "      <td>-1.213401</td>\n",
       "      <td>1.003801</td>\n",
       "      <td>1</td>\n",
       "    </tr>\n",
       "  </tbody>\n",
       "</table>\n",
       "</div>"
      ],
      "text/plain": [
       "   price_paid  waiting_time    rating  haircut_duration  time_of_day  \\\n",
       "0   -0.630637      1.420384 -0.670000          2.332295    -1.822945   \n",
       "1   -0.796216      0.349179 -0.336736          1.288682    -1.365355   \n",
       "2   -0.716891     -0.282770 -0.476735         -1.708531    -0.224167   \n",
       "3    2.273020      2.188449 -1.002937         -2.397965     2.979551   \n",
       "4   -0.322733      2.405728 -1.436030          0.252456    -1.213401   \n",
       "\n",
       "   distance  is_male  \n",
       "0 -0.001568        1  \n",
       "1 -0.192202        1  \n",
       "2  0.346198        1  \n",
       "3  1.794880        1  \n",
       "4  1.003801        1  "
      ]
     },
     "execution_count": 130,
     "metadata": {},
     "output_type": "execute_result"
    }
   ],
   "source": [
    "X = pd.DataFrame(X, columns=[\"price_paid\", \"waiting_time\", \"rating\", \"haircut_duration\", \"time_of_day\", \"distance\"])\n",
    "X[\"is_male\"] = random.choices([0, 1], weights = (20, 80), k = 21600) #add gender afterwards\n",
    "X.head()"
   ]
  },
  {
   "cell_type": "code",
   "execution_count": 131,
   "id": "7d9963ea",
   "metadata": {},
   "outputs": [
    {
     "data": {
      "text/html": [
       "<div>\n",
       "<style scoped>\n",
       "    .dataframe tbody tr th:only-of-type {\n",
       "        vertical-align: middle;\n",
       "    }\n",
       "\n",
       "    .dataframe tbody tr th {\n",
       "        vertical-align: top;\n",
       "    }\n",
       "\n",
       "    .dataframe thead th {\n",
       "        text-align: right;\n",
       "    }\n",
       "</style>\n",
       "<table border=\"1\" class=\"dataframe\">\n",
       "  <thead>\n",
       "    <tr style=\"text-align: right;\">\n",
       "      <th></th>\n",
       "      <th>price_paid</th>\n",
       "      <th>waiting_time</th>\n",
       "      <th>rating</th>\n",
       "      <th>haircut_duration</th>\n",
       "      <th>time_of_day</th>\n",
       "      <th>distance</th>\n",
       "      <th>is_male</th>\n",
       "    </tr>\n",
       "  </thead>\n",
       "  <tbody>\n",
       "    <tr>\n",
       "      <th>count</th>\n",
       "      <td>21600.000000</td>\n",
       "      <td>21600.000000</td>\n",
       "      <td>21600.000000</td>\n",
       "      <td>21600.000000</td>\n",
       "      <td>21600.000000</td>\n",
       "      <td>21600.000000</td>\n",
       "      <td>21600.000000</td>\n",
       "    </tr>\n",
       "    <tr>\n",
       "      <th>mean</th>\n",
       "      <td>-0.207671</td>\n",
       "      <td>0.817783</td>\n",
       "      <td>-0.817824</td>\n",
       "      <td>0.003596</td>\n",
       "      <td>-0.195918</td>\n",
       "      <td>0.477151</td>\n",
       "      <td>0.800833</td>\n",
       "    </tr>\n",
       "    <tr>\n",
       "      <th>std</th>\n",
       "      <td>1.217049</td>\n",
       "      <td>1.339397</td>\n",
       "      <td>1.311672</td>\n",
       "      <td>1.685753</td>\n",
       "      <td>1.549597</td>\n",
       "      <td>0.820286</td>\n",
       "      <td>0.399383</td>\n",
       "    </tr>\n",
       "    <tr>\n",
       "      <th>min</th>\n",
       "      <td>-6.841063</td>\n",
       "      <td>-5.366796</td>\n",
       "      <td>-5.831749</td>\n",
       "      <td>-7.058104</td>\n",
       "      <td>-6.064179</td>\n",
       "      <td>-3.339446</td>\n",
       "      <td>0.000000</td>\n",
       "    </tr>\n",
       "    <tr>\n",
       "      <th>25%</th>\n",
       "      <td>-0.865177</td>\n",
       "      <td>-0.034017</td>\n",
       "      <td>-1.676317</td>\n",
       "      <td>-1.177231</td>\n",
       "      <td>-1.300914</td>\n",
       "      <td>-0.030620</td>\n",
       "      <td>1.000000</td>\n",
       "    </tr>\n",
       "    <tr>\n",
       "      <th>50%</th>\n",
       "      <td>-0.436619</td>\n",
       "      <td>0.858962</td>\n",
       "      <td>-0.882609</td>\n",
       "      <td>0.069342</td>\n",
       "      <td>-0.346369</td>\n",
       "      <td>0.517042</td>\n",
       "      <td>1.000000</td>\n",
       "    </tr>\n",
       "    <tr>\n",
       "      <th>75%</th>\n",
       "      <td>0.455233</td>\n",
       "      <td>1.709619</td>\n",
       "      <td>-0.047404</td>\n",
       "      <td>1.202084</td>\n",
       "      <td>0.814059</td>\n",
       "      <td>1.046978</td>\n",
       "      <td>1.000000</td>\n",
       "    </tr>\n",
       "    <tr>\n",
       "      <th>max</th>\n",
       "      <td>7.887378</td>\n",
       "      <td>6.593471</td>\n",
       "      <td>7.003742</td>\n",
       "      <td>6.253410</td>\n",
       "      <td>6.320353</td>\n",
       "      <td>3.579079</td>\n",
       "      <td>1.000000</td>\n",
       "    </tr>\n",
       "  </tbody>\n",
       "</table>\n",
       "</div>"
      ],
      "text/plain": [
       "         price_paid  waiting_time        rating  haircut_duration  \\\n",
       "count  21600.000000  21600.000000  21600.000000      21600.000000   \n",
       "mean      -0.207671      0.817783     -0.817824          0.003596   \n",
       "std        1.217049      1.339397      1.311672          1.685753   \n",
       "min       -6.841063     -5.366796     -5.831749         -7.058104   \n",
       "25%       -0.865177     -0.034017     -1.676317         -1.177231   \n",
       "50%       -0.436619      0.858962     -0.882609          0.069342   \n",
       "75%        0.455233      1.709619     -0.047404          1.202084   \n",
       "max        7.887378      6.593471      7.003742          6.253410   \n",
       "\n",
       "        time_of_day      distance       is_male  \n",
       "count  21600.000000  21600.000000  21600.000000  \n",
       "mean      -0.195918      0.477151      0.800833  \n",
       "std        1.549597      0.820286      0.399383  \n",
       "min       -6.064179     -3.339446      0.000000  \n",
       "25%       -1.300914     -0.030620      1.000000  \n",
       "50%       -0.346369      0.517042      1.000000  \n",
       "75%        0.814059      1.046978      1.000000  \n",
       "max        6.320353      3.579079      1.000000  "
      ]
     },
     "execution_count": 131,
     "metadata": {},
     "output_type": "execute_result"
    }
   ],
   "source": [
    "X.describe()"
   ]
  },
  {
   "cell_type": "code",
   "execution_count": 132,
   "id": "e248f7e2",
   "metadata": {},
   "outputs": [
    {
     "data": {
      "text/plain": [
       "array([[<AxesSubplot:title={'center':'price_paid'}>,\n",
       "        <AxesSubplot:title={'center':'waiting_time'}>,\n",
       "        <AxesSubplot:title={'center':'rating'}>],\n",
       "       [<AxesSubplot:title={'center':'haircut_duration'}>,\n",
       "        <AxesSubplot:title={'center':'time_of_day'}>,\n",
       "        <AxesSubplot:title={'center':'distance'}>],\n",
       "       [<AxesSubplot:title={'center':'is_male'}>, <AxesSubplot:>,\n",
       "        <AxesSubplot:>]], dtype=object)"
      ]
     },
     "execution_count": 132,
     "metadata": {},
     "output_type": "execute_result"
    },
    {
     "data": {
      "image/png": "[encoded data removed]",
      "text/plain": [
       "<Figure size 432x288 with 9 Axes>"
      ]
     },
     "metadata": {
      "needs_background": "light"
     },
     "output_type": "display_data"
    }
   ],
   "source": [
    "X.hist()"
   ]
  },
  {
   "cell_type": "code",
   "execution_count": 133,
   "id": "f885e100",
   "metadata": {},
   "outputs": [
    {
     "data": {
      "text/html": [
       "<div>\n",
       "<style scoped>\n",
       "    .dataframe tbody tr th:only-of-type {\n",
       "        vertical-align: middle;\n",
       "    }\n",
       "\n",
       "    .dataframe tbody tr th {\n",
       "        vertical-align: top;\n",
       "    }\n",
       "\n",
       "    .dataframe thead th {\n",
       "        text-align: right;\n",
       "    }\n",
       "</style>\n",
       "<table border=\"1\" class=\"dataframe\">\n",
       "  <thead>\n",
       "    <tr style=\"text-align: right;\">\n",
       "      <th></th>\n",
       "      <th>Repeat</th>\n",
       "    </tr>\n",
       "  </thead>\n",
       "  <tbody>\n",
       "    <tr>\n",
       "      <th>0</th>\n",
       "      <td>1</td>\n",
       "    </tr>\n",
       "    <tr>\n",
       "      <th>1</th>\n",
       "      <td>1</td>\n",
       "    </tr>\n",
       "    <tr>\n",
       "      <th>2</th>\n",
       "      <td>1</td>\n",
       "    </tr>\n",
       "    <tr>\n",
       "      <th>3</th>\n",
       "      <td>1</td>\n",
       "    </tr>\n",
       "    <tr>\n",
       "      <th>4</th>\n",
       "      <td>1</td>\n",
       "    </tr>\n",
       "  </tbody>\n",
       "</table>\n",
       "</div>"
      ],
      "text/plain": [
       "   Repeat\n",
       "0       1\n",
       "1       1\n",
       "2       1\n",
       "3       1\n",
       "4       1"
      ]
     },
     "execution_count": 133,
     "metadata": {},
     "output_type": "execute_result"
    }
   ],
   "source": [
    "y = pd.DataFrame(y, columns=[\"Repeat\"])\n",
    "y.head()"
   ]
  },
  {
   "cell_type": "code",
   "execution_count": 134,
   "id": "68d08fe4",
   "metadata": {},
   "outputs": [
    {
     "data": {
      "text/plain": [
       "Repeat\n",
       "1         17863\n",
       "0          3737\n",
       "dtype: int64"
      ]
     },
     "execution_count": 134,
     "metadata": {},
     "output_type": "execute_result"
    }
   ],
   "source": [
    "y.value_counts()"
   ]
  },
  {
   "cell_type": "code",
   "execution_count": 135,
   "id": "a3c397ed",
   "metadata": {},
   "outputs": [],
   "source": [
    "from sklearn.linear_model import LogisticRegression\n",
    "from sklearn.model_selection import train_test_split\n",
    "from sklearn.metrics import accuracy_score, confusion_matrix, classification_report, ConfusionMatrixDisplay\n",
    "from sklearn.feature_selection import RFE"
   ]
  },
  {
   "cell_type": "code",
   "execution_count": 136,
   "id": "1033644c",
   "metadata": {},
   "outputs": [],
   "source": [
    "X_train, X_test, y_train, y_test = train_test_split(X, y, test_size = 0.2, random_state = 2022)"
   ]
  },
  {
   "cell_type": "code",
   "execution_count": 137,
   "id": "a495a5e6",
   "metadata": {},
   "outputs": [
    {
     "data": {
      "text/html": [
       "<div>\n",
       "<style scoped>\n",
       "    .dataframe tbody tr th:only-of-type {\n",
       "        vertical-align: middle;\n",
       "    }\n",
       "\n",
       "    .dataframe tbody tr th {\n",
       "        vertical-align: top;\n",
       "    }\n",
       "\n",
       "    .dataframe thead th {\n",
       "        text-align: right;\n",
       "    }\n",
       "</style>\n",
       "<table border=\"1\" class=\"dataframe\">\n",
       "  <thead>\n",
       "    <tr style=\"text-align: right;\">\n",
       "      <th></th>\n",
       "      <th>price_paid</th>\n",
       "      <th>waiting_time</th>\n",
       "      <th>rating</th>\n",
       "      <th>haircut_duration</th>\n",
       "      <th>time_of_day</th>\n",
       "      <th>distance</th>\n",
       "      <th>is_male</th>\n",
       "    </tr>\n",
       "  </thead>\n",
       "  <tbody>\n",
       "    <tr>\n",
       "      <th>6073</th>\n",
       "      <td>-0.776041</td>\n",
       "      <td>0.590934</td>\n",
       "      <td>-1.763610</td>\n",
       "      <td>0.450212</td>\n",
       "      <td>0.111311</td>\n",
       "      <td>0.627938</td>\n",
       "      <td>1</td>\n",
       "    </tr>\n",
       "    <tr>\n",
       "      <th>16604</th>\n",
       "      <td>-1.144009</td>\n",
       "      <td>-0.496029</td>\n",
       "      <td>-1.014240</td>\n",
       "      <td>1.622978</td>\n",
       "      <td>-0.403962</td>\n",
       "      <td>-0.221885</td>\n",
       "      <td>0</td>\n",
       "    </tr>\n",
       "    <tr>\n",
       "      <th>11448</th>\n",
       "      <td>-0.807151</td>\n",
       "      <td>-0.827816</td>\n",
       "      <td>-0.267055</td>\n",
       "      <td>0.529334</td>\n",
       "      <td>-0.283524</td>\n",
       "      <td>-0.323049</td>\n",
       "      <td>1</td>\n",
       "    </tr>\n",
       "    <tr>\n",
       "      <th>559</th>\n",
       "      <td>1.387102</td>\n",
       "      <td>2.062722</td>\n",
       "      <td>-1.478439</td>\n",
       "      <td>-0.343945</td>\n",
       "      <td>2.006481</td>\n",
       "      <td>1.389078</td>\n",
       "      <td>1</td>\n",
       "    </tr>\n",
       "    <tr>\n",
       "      <th>20734</th>\n",
       "      <td>-0.333672</td>\n",
       "      <td>1.052508</td>\n",
       "      <td>-0.937502</td>\n",
       "      <td>0.594363</td>\n",
       "      <td>-0.540363</td>\n",
       "      <td>0.435431</td>\n",
       "      <td>1</td>\n",
       "    </tr>\n",
       "  </tbody>\n",
       "</table>\n",
       "</div>"
      ],
      "text/plain": [
       "       price_paid  waiting_time    rating  haircut_duration  time_of_day  \\\n",
       "6073    -0.776041      0.590934 -1.763610          0.450212     0.111311   \n",
       "16604   -1.144009     -0.496029 -1.014240          1.622978    -0.403962   \n",
       "11448   -0.807151     -0.827816 -0.267055          0.529334    -0.283524   \n",
       "559      1.387102      2.062722 -1.478439         -0.343945     2.006481   \n",
       "20734   -0.333672      1.052508 -0.937502          0.594363    -0.540363   \n",
       "\n",
       "       distance  is_male  \n",
       "6073   0.627938        1  \n",
       "16604 -0.221885        0  \n",
       "11448 -0.323049        1  \n",
       "559    1.389078        1  \n",
       "20734  0.435431        1  "
      ]
     },
     "execution_count": 137,
     "metadata": {},
     "output_type": "execute_result"
    }
   ],
   "source": [
    "X_train.head()"
   ]
  },
  {
   "cell_type": "code",
   "execution_count": 138,
   "id": "14a0f094",
   "metadata": {},
   "outputs": [
    {
     "data": {
      "text/plain": [
       "LogisticRegression(random_state=2022)"
      ]
     },
     "execution_count": 138,
     "metadata": {},
     "output_type": "execute_result"
    }
   ],
   "source": [
    "clf = LogisticRegression(random_state = 2022)\n",
    "clf.fit(X_train, y_train.values.ravel())"
   ]
  },
  {
   "cell_type": "code",
   "execution_count": 140,
   "id": "e2af199f",
   "metadata": {},
   "outputs": [
    {
     "data": {
      "text/plain": [
       "array([[ 0.06214131,  0.30224646, -0.35586804,  0.08553221,  0.20769541,\n",
       "         0.20802888, -0.08177682]])"
      ]
     },
     "execution_count": 140,
     "metadata": {},
     "output_type": "execute_result"
    }
   ],
   "source": [
    "clf.coef_"
   ]
  },
  {
   "cell_type": "code",
   "execution_count": 141,
   "id": "72eb6b2e",
   "metadata": {},
   "outputs": [
    {
     "name": "stdout",
     "output_type": "stream",
     "text": [
      "Testing accuracy 0.8178240740740741\n"
     ]
    }
   ],
   "source": [
    "y_pred = clf.predict(X_test)\n",
    "print('Testing accuracy %s' % accuracy_score(y_test, y_pred))"
   ]
  },
  {
   "cell_type": "code",
   "execution_count": 142,
   "id": "d5b85b5c",
   "metadata": {},
   "outputs": [
    {
     "name": "stdout",
     "output_type": "stream",
     "text": [
      "Num Features: 4\n",
      "Selected Features: [False  True  True False  True  True False]\n",
      "Feature Ranking: [3 1 1 2 1 1 4]\n",
      "['waiting_time' 'rating' 'time_of_day' 'distance']\n"
     ]
    }
   ],
   "source": [
    "rfe = RFE(clf, n_features_to_select=4)\n",
    "fit = rfe.fit(X, y.values.ravel())\n",
    "print(\"Num Features: %d\" % fit.n_features_)\n",
    "print(\"Selected Features: %s\" % fit.support_)\n",
    "print(\"Feature Ranking: %s\" % fit.ranking_)\n",
    "\n",
    "selected = fit.support_\n",
    "\n",
    "#get the top-3 feature_names\n",
    "feature_names = X.columns\n",
    "print(feature_names.to_numpy()[selected])"
   ]
  },
  {
   "cell_type": "code",
   "execution_count": null,
   "id": "390b7898",
   "metadata": {},
   "outputs": [],
   "source": []
  },
  {
   "cell_type": "code",
   "execution_count": null,
   "id": "f6e6cf33",
   "metadata": {},
   "outputs": [],
   "source": []
  },
  {
   "cell_type": "code",
   "execution_count": null,
   "id": "909a1c3b",
   "metadata": {},
   "outputs": [],
   "source": []
  }
 ],
 "metadata": {
  "kernelspec": {
   "display_name": "Python 3 (ipykernel)",
   "language": "python",
   "name": "python3"
  },
  "language_info": {
   "codemirror_mode": {
    "name": "ipython",
    "version": 3
   },
   "file_extension": ".py",
   "mimetype": "text/x-python",
   "name": "python",
   "nbconvert_exporter": "python",
   "pygments_lexer": "ipython3",
   "version": "3.9.2"
  }
 },
 "nbformat": 4,
 "nbformat_minor": 5
}
